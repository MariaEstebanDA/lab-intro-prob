{
 "cells": [
  {
   "cell_type": "markdown",
   "metadata": {},
   "source": [
    "# Introduction To Probability\n",
    "## Challenge 1\n",
    "\n",
    "A and B are events of a probability space with $(\\omega, \\sigma, P)$ such that $P(A) = 0.3$, $P(B) = 0.6$ and $P(A \\cap B) = 0.1$\n",
    "\n",
    "Which of the following statements are false?\n",
    "* $P(A \\cup B) = 0.6$\n",
    "* $P(A \\cap B^{C}) = 0.2$\n",
    "* $P(A \\cap (B \\cup B^{C})) = 0.4$\n",
    "* $P(A^{C} \\cap B^{C}) = 0.3$\n",
    "* $P((A \\cap B)^{C}) = 0.9$"
   ]
  },
  {
   "cell_type": "code",
   "execution_count": null,
   "metadata": {},
   "outputs": [],
   "source": [
    "\"\"\"\n",
    "𝑃(𝐴)=0.3 ,  𝑃(𝐵)=0.6  and  𝑃(𝐴∩𝐵)=0.1\n",
    "\n",
    "\"\"\"\"\n",
    "\n",
    "\"\"\"\n",
    "𝑃(𝐴∪𝐵)=0.6 -> FALSE : 𝑃(𝐴∪𝐵) = 𝑃(𝐴) + 𝑃(𝐵) - 𝑃(𝐴∩𝐵) = 0.3 + 0.6 - 0.1 = 0.8\n",
    "𝑃(𝐴∩𝐵𝐶)=0.2 -> TRUE : 𝑃(𝐴∩𝐵𝐶)= 𝑃(𝐴) - 𝑃(𝐴∩𝐵) = 0.3 - 0.1 = 0.2\n",
    "𝑃(𝐴∩(𝐵∪𝐵𝐶))=0.4 -> FALSE : 𝑃(𝐴∩(𝐵∪𝐵𝐶)) = 𝑃(𝐴) = 0.3\n",
    "𝑃(𝐴𝐶∩𝐵𝐶)=0.3 -> FALSE: 𝑃(𝐴𝐶∩𝐵𝐶) = 𝑃(𝐴∪𝐵)C = 1 - 0.8 = 0.2\n",
    "𝑃((𝐴∩𝐵)𝐶)=0.9 -> TRUE : 1 - 𝑃(𝐴∩𝐵) = 0.9\n",
    "\n",
    "\"\"\""
   ]
  },
  {
   "cell_type": "markdown",
   "metadata": {},
   "source": [
    "## Challenge 2\n",
    "There is a box with 10 white balls, 12 red balls and 8 black balls. Calculate the probability of:\n",
    "* Taking a white ball out.\n",
    "* Taking a white ball out after taking a black ball out.\n",
    "* Taking a red ball out after taking a black and a red ball out.\n",
    "* Taking a red ball out after taking a black and a red ball out with reposition.\n",
    "\n",
    "**Hint**: Reposition means putting back the ball into the box after taking it out."
   ]
  },
  {
   "cell_type": "code",
   "execution_count": null,
   "metadata": {},
   "outputs": [],
   "source": [
    "\"\"\"\n",
    "P (White)= (10/30) = 0.33\n",
    "\n",
    "P(BW) = (8/30)*(10/29) \n",
    "\n",
    "P(BRR) = (8/30)*(12/29)*(11/28) = 4.33%\n",
    "\n",
    "P(BRR) = (8/30)*(12/30)*(11/30) = 3.91%\n",
    "\n",
    "\"\"\""
   ]
  },
  {
   "cell_type": "markdown",
   "metadata": {},
   "source": [
    "## Challenge 3\n",
    "\n",
    "You are planning to go on a picnic today but the morning is cloudy. You hate rain so you don't know whether to go out or stay home! To help you make a decision, you gather the following data about rainy days:\n",
    "\n",
    "* Knowing that it is a rainy day, the probability of cloudy is 50%!\n",
    "* The probability of any day (rainy or not) starting off cloudy is 40%. \n",
    "* This month is usually dry so only 3 of 30 days (10%) tend to be rainy. \n",
    "\n",
    "What is the probability of rain, given the day started cloudy?"
   ]
  },
  {
   "cell_type": "code",
   "execution_count": null,
   "metadata": {},
   "outputs": [],
   "source": [
    "\"\"\"\n",
    "P(cloudy|rainy) = 50%\n",
    "P(cloudy) = 40%\n",
    "P(rain) = 10%\n",
    "\n",
    "P(rain|cloudy) -> apply Bayesian theorem\n",
    "\n",
    "P(rain|cloudy) = [P(cloudy|rainy) * P(rain)] / P (cloud) = [0.5 * 0.1] / 0.4 = 0.125\n",
    "\"\"\""
   ]
  },
  {
   "cell_type": "markdown",
   "metadata": {},
   "source": [
    "## Challenge 4\n",
    "\n",
    "One thousand people were asked through a telephone survey whether they thought more street lighting is needed at night or not.\n",
    "\n",
    "Out of the 480 men that answered the survey, 324 said yes and 156 said no. On the other hand, out of the 520 women that answered, 351 said yes and 169 said no. \n",
    "\n",
    "We wonder if men and women have a different opinions about the street lighting matter. Is gender relevant or irrelevant to the question?\n",
    "\n",
    "Consider the following events:\n",
    "- The answer is yes, so the person that answered thinks that more street lighting is needed.\n",
    "- The person who answered is a man.\n",
    "\n",
    "We want to know if these events are independent, that is, if the fact of wanting more light depends on whether one is male or female. Are these events independent or not?\n",
    "\n",
    "**Hint**: To clearly compare the answers by gender, it is best to place the data in a table."
   ]
  },
  {
   "cell_type": "code",
   "execution_count": 17,
   "metadata": {},
   "outputs": [
    {
     "data": {
      "text/html": [
       "<div>\n",
       "<style scoped>\n",
       "    .dataframe tbody tr th:only-of-type {\n",
       "        vertical-align: middle;\n",
       "    }\n",
       "\n",
       "    .dataframe tbody tr th {\n",
       "        vertical-align: top;\n",
       "    }\n",
       "\n",
       "    .dataframe thead th {\n",
       "        text-align: right;\n",
       "    }\n",
       "</style>\n",
       "<table border=\"1\" class=\"dataframe\">\n",
       "  <thead>\n",
       "    <tr style=\"text-align: right;\">\n",
       "      <th></th>\n",
       "      <th>Answer</th>\n",
       "      <th>Men</th>\n",
       "      <th>Women</th>\n",
       "      <th>Total</th>\n",
       "      <th>Men %</th>\n",
       "      <th>Women %</th>\n",
       "    </tr>\n",
       "  </thead>\n",
       "  <tbody>\n",
       "    <tr>\n",
       "      <th>0</th>\n",
       "      <td>Yes</td>\n",
       "      <td>324</td>\n",
       "      <td>351</td>\n",
       "      <td>675</td>\n",
       "      <td>48.0</td>\n",
       "      <td>52.0</td>\n",
       "    </tr>\n",
       "    <tr>\n",
       "      <th>1</th>\n",
       "      <td>No</td>\n",
       "      <td>156</td>\n",
       "      <td>169</td>\n",
       "      <td>325</td>\n",
       "      <td>48.0</td>\n",
       "      <td>52.0</td>\n",
       "    </tr>\n",
       "    <tr>\n",
       "      <th>Total</th>\n",
       "      <td>YesNo</td>\n",
       "      <td>480</td>\n",
       "      <td>520</td>\n",
       "      <td>1000</td>\n",
       "      <td>48.0</td>\n",
       "      <td>52.0</td>\n",
       "    </tr>\n",
       "  </tbody>\n",
       "</table>\n",
       "</div>"
      ],
      "text/plain": [
       "      Answer  Men  Women  Total  Men %  Women %\n",
       "0        Yes  324    351    675   48.0     52.0\n",
       "1         No  156    169    325   48.0     52.0\n",
       "Total  YesNo  480    520   1000   48.0     52.0"
      ]
     },
     "execution_count": 17,
     "metadata": {},
     "output_type": "execute_result"
    }
   ],
   "source": [
    "# your code here\n",
    "\n",
    "import pandas as pd\n",
    "\n",
    "df = pd.DataFrame({'Answer': [\"Yes\", \"No\"], 'Men': [324,156],'Women': [351,169]})\n",
    "\n",
    "df[\"Total\"] = df[\"Men\"] + df [\"Women\"] # adding a total column\n",
    "df.loc[\"Total\"] = df.sum() # adding the rows total\n",
    "\n",
    "# calculating the %\n",
    "\n",
    "df[\"Men %\"] = (df[\"Men\"]/df[\"Total\"])*100\n",
    "df[\"Women %\"] = (df[\"Women\"]/df[\"Total\"])*100\n",
    "\n",
    "df"
   ]
  },
  {
   "cell_type": "code",
   "execution_count": null,
   "metadata": {},
   "outputs": [],
   "source": [
    "\"\"\"\n",
    "P(Yes) = 675/1000 = 67.5%\n",
    "P(Man) = 48%\n",
    "\n",
    "If independent: P(Men ∩ Yes) = P(Men)*P(Yes) =  67.5% * 48% = 32.4%\n",
    "\n",
    "If not independent: P(Men ∩ Yes) = P(Yes|Men)*P(Men) = (324/675)*(480/1000) = 23%\n",
    "\n",
    "As can be seen in the table, the probability of being a men and answering yes is 32.4%.\n",
    "Therefore, the variables are independent: the fact of wanting more light does not depends on the gender.\n",
    "\"\"\""
   ]
  }
 ],
 "metadata": {
  "kernelspec": {
   "display_name": "Python 3",
   "language": "python",
   "name": "python3"
  },
  "language_info": {
   "codemirror_mode": {
    "name": "ipython",
    "version": 3
   },
   "file_extension": ".py",
   "mimetype": "text/x-python",
   "name": "python",
   "nbconvert_exporter": "python",
   "pygments_lexer": "ipython3",
   "version": "3.8.5"
  }
 },
 "nbformat": 4,
 "nbformat_minor": 2
}
